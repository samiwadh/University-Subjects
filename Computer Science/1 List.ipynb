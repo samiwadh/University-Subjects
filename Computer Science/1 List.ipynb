{
 "cells": [
  {
   "cell_type": "code",
   "execution_count": 1,
   "id": "2b02d5ac",
   "metadata": {},
   "outputs": [],
   "source": [
    "sw_movies = [\"The Phantom Menace\", \"Attack of the Clones\", \"Revenge of the Sith\", \"A New Hope\", \"The Empire Strikes Back\", \"Return of the Jedi\", \"The Force Awakens\", \"The Last Jedi\"]"
   ]
  },
  {
   "cell_type": "code",
   "execution_count": 2,
   "id": "5be4d319",
   "metadata": {},
   "outputs": [
    {
     "data": {
      "text/plain": [
       "'Attack of the Clones'"
      ]
     },
     "execution_count": 2,
     "metadata": {},
     "output_type": "execute_result"
    }
   ],
   "source": [
    "sw_movies[1]"
   ]
  },
  {
   "cell_type": "code",
   "execution_count": 3,
   "id": "19f4e37b",
   "metadata": {},
   "outputs": [
    {
     "data": {
      "text/plain": [
       "['The Phantom Menace',\n",
       " 'Revenge of the Sith',\n",
       " 'A New Hope',\n",
       " 'The Empire Strikes Back',\n",
       " 'Return of the Jedi',\n",
       " 'The Force Awakens',\n",
       " 'The Last Jedi']"
      ]
     },
     "execution_count": 3,
     "metadata": {},
     "output_type": "execute_result"
    }
   ],
   "source": [
    "sw_movies.remove(\"Attack of the Clones\")\n",
    "sw_movies"
   ]
  },
  {
   "cell_type": "code",
   "execution_count": null,
   "id": "aee6a306",
   "metadata": {},
   "outputs": [
    {
     "data": {
      "text/plain": [
       "True"
      ]
     },
     "execution_count": 5,
     "metadata": {},
     "output_type": "execute_result"
    }
   ],
   "source": [
    "sw_movies1 = \"A New Hope\" in sw_movies\n",
    "sw_movies1\n"
   ]
  },
  {
   "cell_type": "code",
   "execution_count": 12,
   "id": "e32169a6",
   "metadata": {},
   "outputs": [
    {
     "name": "stdout",
     "output_type": "stream",
     "text": [
      "The Last Jedi\n"
     ]
    }
   ],
   "source": [
    "s= sw_movies.pop()\n",
    "print(s)"
   ]
  },
  {
   "cell_type": "code",
   "execution_count": 13,
   "id": "a1b97e7b",
   "metadata": {},
   "outputs": [
    {
     "data": {
      "text/plain": [
       "['The Phantom Menace',\n",
       " 'Revenge of the Sith',\n",
       " 'A New Hope',\n",
       " 'The Empire Strikes Back',\n",
       " 'Return of the Jedi',\n",
       " 'The Force Awakens']"
      ]
     },
     "execution_count": 13,
     "metadata": {},
     "output_type": "execute_result"
    }
   ],
   "source": [
    "sw_movies"
   ]
  },
  {
   "cell_type": "code",
   "execution_count": 10,
   "id": "22b0c629",
   "metadata": {},
   "outputs": [
    {
     "name": "stdout",
     "output_type": "stream",
     "text": [
      "['banana', 'orange', 'mango']\n"
     ]
    }
   ],
   "source": [
    "fruits = ['banana', 'orange', 'mango', 'lemon']\n",
    "fruits.pop()\n",
    "print(fruits) "
   ]
  },
  {
   "cell_type": "code",
   "execution_count": 16,
   "id": "daba8e30",
   "metadata": {},
   "outputs": [],
   "source": [
    "sw_movies = [\"The Phantom Menace\", \"Attack of the Clones\", \"Revenge of the Sith\", \"A New Hope\", \"The Empire Strikes Back\", \"Return of the Jedi\", \"The Force Awakens\", \"The Last Jedi\"]"
   ]
  },
  {
   "cell_type": "code",
   "execution_count": 17,
   "id": "ecf078d2",
   "metadata": {},
   "outputs": [
    {
     "data": {
      "text/plain": [
       "['The Phantom Menace',\n",
       " 'Attack of the Clones',\n",
       " 'Revenge of the Sith',\n",
       " 'A New Hope',\n",
       " 'The Empire Strikes Back',\n",
       " 'Return of the Jedi',\n",
       " 'The Force Awakens',\n",
       " 'The Last Jedi']"
      ]
     },
     "execution_count": 17,
     "metadata": {},
     "output_type": "execute_result"
    }
   ],
   "source": [
    "sw_movies"
   ]
  },
  {
   "cell_type": "code",
   "execution_count": 18,
   "id": "6ce2de7b",
   "metadata": {},
   "outputs": [
    {
     "data": {
      "text/plain": [
       "['The Phantom Menace',\n",
       " 'Attack of the Clones',\n",
       " 'Revenge of the Sith',\n",
       " 'A New Hope',\n",
       " 'The Empire Strikes Back',\n",
       " 'Return of the Jedi',\n",
       " 'The Force Awakens',\n",
       " 'The Last Jedi',\n",
       " 'Unknow Title']"
      ]
     },
     "execution_count": 18,
     "metadata": {},
     "output_type": "execute_result"
    }
   ],
   "source": [
    "sw_movies.append(\"Unknow Title\")\n",
    "sw_movies"
   ]
  },
  {
   "cell_type": "code",
   "execution_count": 20,
   "id": "c05738ee",
   "metadata": {},
   "outputs": [
    {
     "name": "stdout",
     "output_type": "stream",
     "text": [
      "The Empire Strikes Back\n"
     ]
    }
   ],
   "source": [
    "print(sw_movies[4])"
   ]
  },
  {
   "cell_type": "code",
   "execution_count": 21,
   "id": "adf5b92f",
   "metadata": {},
   "outputs": [
    {
     "name": "stdout",
     "output_type": "stream",
     "text": [
      "Return of the Jedi\n"
     ]
    }
   ],
   "source": [
    "print(sw_movies[5])"
   ]
  },
  {
   "cell_type": "code",
   "execution_count": 24,
   "id": "d809eaa9",
   "metadata": {},
   "outputs": [
    {
     "name": "stdout",
     "output_type": "stream",
     "text": [
      "['A New Hope', 'The Empire Strikes Back', 'Return of the Jedi']\n"
     ]
    }
   ],
   "source": [
    "print(sw_movies[3:6])"
   ]
  },
  {
   "cell_type": "code",
   "execution_count": 23,
   "id": "197188e8",
   "metadata": {},
   "outputs": [
    {
     "data": {
      "text/plain": [
       "['The Phantom Menace',\n",
       " 'Attack of the Clones',\n",
       " 'Revenge of the Sith',\n",
       " 'A New Hope',\n",
       " 'The Empire Strikes Back',\n",
       " 'Return of the Jedi',\n",
       " 'The Force Awakens',\n",
       " 'The Last Jedi',\n",
       " 'Unknow Title']"
      ]
     },
     "execution_count": 23,
     "metadata": {},
     "output_type": "execute_result"
    }
   ],
   "source": [
    "sw_movies"
   ]
  },
  {
   "cell_type": "code",
   "execution_count": 25,
   "id": "16d745f3",
   "metadata": {},
   "outputs": [
    {
     "data": {
      "text/plain": [
       "['The Phantom Menace',\n",
       " 'Attack of the Clones',\n",
       " 'Revenge of the Sith',\n",
       " 'A New Hope',\n",
       " 'The Empire Strikes Back',\n",
       " 'Return of the Jedi',\n",
       " 'The Force Awakens',\n",
       " 'The Last Jedi']"
      ]
     },
     "execution_count": 25,
     "metadata": {},
     "output_type": "execute_result"
    }
   ],
   "source": [
    "sw_movies.pop()\n",
    "sw_movies"
   ]
  },
  {
   "cell_type": "code",
   "execution_count": 30,
   "id": "80048fc2",
   "metadata": {},
   "outputs": [
    {
     "data": {
      "text/plain": [
       "list"
      ]
     },
     "execution_count": 30,
     "metadata": {},
     "output_type": "execute_result"
    }
   ],
   "source": [
    "type(sw_movies)"
   ]
  },
  {
   "cell_type": "code",
   "execution_count": 32,
   "id": "6d7cf90f",
   "metadata": {},
   "outputs": [
    {
     "data": {
      "text/plain": [
       "str"
      ]
     },
     "execution_count": 32,
     "metadata": {},
     "output_type": "execute_result"
    }
   ],
   "source": [
    "type(sw_movies[0])"
   ]
  },
  {
   "cell_type": "code",
   "execution_count": 33,
   "id": "34a7e5d9",
   "metadata": {},
   "outputs": [
    {
     "data": {
      "text/plain": [
       "'The Phantom Menace'"
      ]
     },
     "execution_count": 33,
     "metadata": {},
     "output_type": "execute_result"
    }
   ],
   "source": [
    "sw_movies.pop(0)"
   ]
  },
  {
   "cell_type": "code",
   "execution_count": 34,
   "id": "7d303a13",
   "metadata": {},
   "outputs": [
    {
     "data": {
      "text/plain": [
       "['Attack of the Clones',\n",
       " 'Revenge of the Sith',\n",
       " 'A New Hope',\n",
       " 'The Empire Strikes Back',\n",
       " 'Return of the Jedi',\n",
       " 'The Force Awakens',\n",
       " 'The Last Jedi']"
      ]
     },
     "execution_count": 34,
     "metadata": {},
     "output_type": "execute_result"
    }
   ],
   "source": [
    "sw_movies"
   ]
  },
  {
   "cell_type": "code",
   "execution_count": 40,
   "id": "33ab967f",
   "metadata": {},
   "outputs": [],
   "source": [
    "sw_movies.insert(0, \"The Phantom Menace\")"
   ]
  },
  {
   "cell_type": "code",
   "execution_count": 41,
   "id": "b36e760f",
   "metadata": {},
   "outputs": [
    {
     "data": {
      "text/plain": [
       "['The Phantom Menace',\n",
       " 'Attack of the Clones',\n",
       " 'Revenge of the Sith',\n",
       " 'A New Hope',\n",
       " 'The Empire Strikes Back',\n",
       " 'Return of the Jedi',\n",
       " 'The Force Awakens',\n",
       " 'The Last Jedi']"
      ]
     },
     "execution_count": 41,
     "metadata": {},
     "output_type": "execute_result"
    }
   ],
   "source": [
    "sw_movies"
   ]
  },
  {
   "cell_type": "code",
   "execution_count": 43,
   "id": "45a8871b",
   "metadata": {},
   "outputs": [],
   "source": [
    "list1 = [1, 2, 3, 4, 5]"
   ]
  },
  {
   "cell_type": "code",
   "execution_count": 44,
   "id": "623ebb4a",
   "metadata": {},
   "outputs": [
    {
     "data": {
      "text/plain": [
       "[1, 2, 3, 4, 5]"
      ]
     },
     "execution_count": 44,
     "metadata": {},
     "output_type": "execute_result"
    }
   ],
   "source": [
    "list2 =list1.copy()\n",
    "list2"
   ]
  },
  {
   "cell_type": "code",
   "execution_count": 45,
   "id": "58d64d44",
   "metadata": {},
   "outputs": [
    {
     "data": {
      "text/plain": [
       "[1, 2, 3, 4, 5]"
      ]
     },
     "execution_count": 45,
     "metadata": {},
     "output_type": "execute_result"
    }
   ],
   "source": [
    "list2"
   ]
  },
  {
   "cell_type": "code",
   "execution_count": 46,
   "id": "c3aad499",
   "metadata": {},
   "outputs": [
    {
     "data": {
      "text/plain": [
       "5"
      ]
     },
     "execution_count": 46,
     "metadata": {},
     "output_type": "execute_result"
    }
   ],
   "source": [
    "len(list2)"
   ]
  },
  {
   "cell_type": "code",
   "execution_count": 48,
   "id": "7ec3026c",
   "metadata": {},
   "outputs": [
    {
     "name": "stdout",
     "output_type": "stream",
     "text": [
      "1 3 5\n"
     ]
    }
   ],
   "source": [
    "list2\n",
    "\n",
    "first_item = list2[0]\n",
    "midedle_item = list2[len(list2)//2]\n",
    "last_item = list2[-1]\n",
    "print(first_item, midedle_item, last_item)  "
   ]
  },
  {
   "cell_type": "code",
   "execution_count": null,
   "id": "497ac934",
   "metadata": {},
   "outputs": [],
   "source": [
    "mixed_data_types=[\"name\", \"age\", \"height\", \"marital status\", \"address\"]\n",
    "it_companies = ['Facebook', 'Google', 'Microsoft', 'Apple', 'IBM', 'Oracle', 'Amazon']\n"
   ]
  },
  {
   "cell_type": "code",
   "execution_count": 50,
   "id": "a1126738",
   "metadata": {},
   "outputs": [
    {
     "name": "stdout",
     "output_type": "stream",
     "text": [
      "['Facebook', 'Google', 'Microsoft', 'Apple', 'IBM', 'Oracle', 'Amazon']\n"
     ]
    }
   ],
   "source": [
    "print(it_companies)"
   ]
  },
  {
   "cell_type": "code",
   "execution_count": 51,
   "id": "1bb43319",
   "metadata": {},
   "outputs": [
    {
     "name": "stdout",
     "output_type": "stream",
     "text": [
      "7\n"
     ]
    }
   ],
   "source": [
    "print(len(it_companies))"
   ]
  },
  {
   "cell_type": "code",
   "execution_count": 52,
   "id": "9f24c688",
   "metadata": {},
   "outputs": [
    {
     "name": "stdout",
     "output_type": "stream",
     "text": [
      "['Facebook', 'Meta', 'Microsoft', 'Apple', 'IBM', 'Oracle', 'Amazon']\n"
     ]
    }
   ],
   "source": [
    "it_companies[1]= 'Meta'\n",
    "print(it_companies)"
   ]
  },
  {
   "cell_type": "code",
   "execution_count": 53,
   "id": "b6d43e96",
   "metadata": {},
   "outputs": [],
   "source": [
    "it_companies.append('IT')"
   ]
  },
  {
   "cell_type": "code",
   "execution_count": 54,
   "id": "be704a25",
   "metadata": {},
   "outputs": [
    {
     "data": {
      "text/plain": [
       "['Facebook', 'Meta', 'Microsoft', 'Apple', 'IBM', 'Oracle', 'Amazon', 'IT']"
      ]
     },
     "execution_count": 54,
     "metadata": {},
     "output_type": "execute_result"
    }
   ],
   "source": [
    "it_companies"
   ]
  },
  {
   "cell_type": "code",
   "execution_count": 58,
   "id": "28267f16",
   "metadata": {},
   "outputs": [],
   "source": [
    "it_companies.insert(len(it_companies)//2, 'IT')"
   ]
  },
  {
   "cell_type": "code",
   "execution_count": 60,
   "id": "3de53104",
   "metadata": {},
   "outputs": [
    {
     "name": "stdout",
     "output_type": "stream",
     "text": [
      "['Facebook', 'Meta', 'Microsoft', 'Apple', 'IT', 'Company', 'IBM', 'Oracle', 'Amazon', 'IT']\n"
     ]
    }
   ],
   "source": [
    "print(it_companies)"
   ]
  },
  {
   "cell_type": "code",
   "execution_count": 61,
   "id": "fe95f05e",
   "metadata": {},
   "outputs": [
    {
     "data": {
      "text/plain": [
       "['Facebook',\n",
       " 'Meta',\n",
       " 'Microsoft',\n",
       " 'Apple',\n",
       " 'IT',\n",
       " 'IBM',\n",
       " 'Oracle',\n",
       " 'Amazon',\n",
       " 'IT']"
      ]
     },
     "execution_count": 61,
     "metadata": {},
     "output_type": "execute_result"
    }
   ],
   "source": [
    "it_companies.remove('Company')\n",
    "it_companies"
   ]
  },
  {
   "cell_type": "code",
   "execution_count": 62,
   "id": "65635ee8",
   "metadata": {},
   "outputs": [],
   "source": [
    "it_companies[1] = 'FACEBOOK'"
   ]
  },
  {
   "cell_type": "code",
   "execution_count": 63,
   "id": "7da3d006",
   "metadata": {},
   "outputs": [
    {
     "data": {
      "text/plain": [
       "['Facebook',\n",
       " 'FACEBOOK',\n",
       " 'Microsoft',\n",
       " 'Apple',\n",
       " 'IT',\n",
       " 'IBM',\n",
       " 'Oracle',\n",
       " 'Amazon',\n",
       " 'IT']"
      ]
     },
     "execution_count": 63,
     "metadata": {},
     "output_type": "execute_result"
    }
   ],
   "source": [
    "it_companies"
   ]
  },
  {
   "cell_type": "code",
   "execution_count": null,
   "id": "5a62a85d",
   "metadata": {},
   "outputs": [],
   "source": []
  }
 ],
 "metadata": {
  "kernelspec": {
   "display_name": "ds_env",
   "language": "python",
   "name": "python3"
  },
  "language_info": {
   "codemirror_mode": {
    "name": "ipython",
    "version": 3
   },
   "file_extension": ".py",
   "mimetype": "text/x-python",
   "name": "python",
   "nbconvert_exporter": "python",
   "pygments_lexer": "ipython3",
   "version": "3.11.13"
  }
 },
 "nbformat": 4,
 "nbformat_minor": 5
}
