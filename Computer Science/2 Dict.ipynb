{
 "cells": [
  {
   "cell_type": "code",
   "execution_count": 4,
   "id": "8695c67f",
   "metadata": {},
   "outputs": [],
   "source": [
    "Dog ={\n",
    "    \"name\":[\"Buddy\",\"Max\",\"Charlie\",\"Jack\",\"Cooper\"],\n",
    "    \"age\":[3,5,2,4,1],\n",
    "    \"breed\":[\"Labrador\",\"Beagle\",\"Bulldog\",\"Poodle\",\"German Shepherd\"],\n",
    "    \"color\":[\"Brown\",\"Black\",\"White\",\"Golden\",\"Gray\"],\n",
    "    \"legs\":4\n",
    "    \n",
    "}"
   ]
  },
  {
   "cell_type": "code",
   "execution_count": 6,
   "id": "597775dd",
   "metadata": {},
   "outputs": [
    {
     "data": {
      "text/plain": [
       "dict"
      ]
     },
     "execution_count": 6,
     "metadata": {},
     "output_type": "execute_result"
    }
   ],
   "source": [
    "type(Dog)\n"
   ]
  },
  {
   "cell_type": "code",
   "execution_count": 7,
   "id": "207524db",
   "metadata": {},
   "outputs": [],
   "source": [
    "students = {\n",
    "    \"first_name\": [\"John\", \"Jane\", \"Jim\", \"Jill\", \"Jack\"],\n",
    "    \"last_name\": [\"Doe\", \"Smith\", \"Brown\", \"Johnson\", \"Davis\"],\n",
    "    \"age\"  : [20, 22, 19, 21, 23],\n",
    "    \"gender\": [\"M\", \"F\", \"M\", \"F\", \"M\"],\n",
    "    \"marital_status\": [\"Single\", \"Married\", \"Single\", \"Married\", \"Single\"],\n",
    "    \"skills\": [\"Python\", \"Java\", \"C++\", \"JavaScript\", \"Ruby\"],\n",
    "    \"country\": [\"USA\", \"Canada\", \"UK\", \"Australia\", \"Germany\"],\n",
    "    \"city\": [\"New York\", \"Toronto\", \"London\", \"Sydney\", \"Berlin\"],\n",
    "    \"address\": [\"123 Main St\", \"456 Maple Ave\", \"789 Oak St\", \"101 Pine Rd\", \"202 Birch Ln\"]\n",
    "}\n",
    "    "
   ]
  },
  {
   "cell_type": "code",
   "execution_count": 10,
   "id": "791760bf",
   "metadata": {},
   "outputs": [
    {
     "data": {
      "text/plain": [
       "{'first_name': ['John', 'Jane', 'Jim', 'Jill', 'Jack'],\n",
       " 'last_name': ['Doe', 'Smith', 'Brown', 'Johnson', 'Davis'],\n",
       " 'age': [20, 22, 19, 21, 23],\n",
       " 'gender': ['M', 'F', 'M', 'F', 'M'],\n",
       " 'marital_status': ['Single', 'Married', 'Single', 'Married', 'Single'],\n",
       " 'skills': ['Python', 'Java', 'C++', 'JavaScript', 'Ruby'],\n",
       " 'country': ['USA', 'Canada', 'UK', 'Australia', 'Germany'],\n",
       " 'city': ['New York', 'Toronto', 'London', 'Sydney', 'Berlin'],\n",
       " 'address': ['123 Main St',\n",
       "  '456 Maple Ave',\n",
       "  '789 Oak St',\n",
       "  '101 Pine Rd',\n",
       "  '202 Birch Ln']}"
      ]
     },
     "execution_count": 10,
     "metadata": {},
     "output_type": "execute_result"
    }
   ],
   "source": [
    "students"
   ]
  },
  {
   "cell_type": "code",
   "execution_count": 13,
   "id": "33ca0856",
   "metadata": {},
   "outputs": [
    {
     "data": {
      "text/plain": [
       "5"
      ]
     },
     "execution_count": 13,
     "metadata": {},
     "output_type": "execute_result"
    }
   ],
   "source": [
    "len(students[\"first_name\"])"
   ]
  },
  {
   "cell_type": "code",
   "execution_count": 17,
   "id": "28a692ff",
   "metadata": {},
   "outputs": [
    {
     "data": {
      "text/plain": [
       "list"
      ]
     },
     "execution_count": 17,
     "metadata": {},
     "output_type": "execute_result"
    }
   ],
   "source": [
    "value_of_skill = students[\"skills\"]\n",
    "type(value_of_skill)"
   ]
  },
  {
   "cell_type": "code",
   "execution_count": 22,
   "id": "ee2807ee",
   "metadata": {},
   "outputs": [
    {
     "name": "stdout",
     "output_type": "stream",
     "text": [
      "dict_items([('first_name', ['John', 'Jane', 'Jim', 'Jill', 'Jack']), ('last_name', ['Doe', 'Smith', 'Brown', 'Johnson', 'Davis']), ('age', [20, 22, 19, 21, 23]), ('gender', ['M', 'F', 'M', 'F', 'M']), ('marital_status', ['Single', 'Married', 'Single', 'Married', 'Single']), ('skills', ['Python', 'Java', 'C++', 'JavaScript', 'Ruby']), ('country', ['USA', 'Canada', 'UK', 'Australia', 'Germany']), ('city', ['New York', 'Toronto', 'London', 'Sydney', 'Berlin']), ('address', ['123 Main St', '456 Maple Ave', '789 Oak St', '101 Pine Rd', '202 Birch Ln'])])\n"
     ]
    }
   ],
   "source": [
    "print(students.items())"
   ]
  },
  {
   "cell_type": "code",
   "execution_count": 23,
   "id": "4e9d1b4a",
   "metadata": {},
   "outputs": [
    {
     "data": {
      "text/plain": [
       "dict"
      ]
     },
     "execution_count": 23,
     "metadata": {},
     "output_type": "execute_result"
    }
   ],
   "source": [
    "type(students)"
   ]
  },
  {
   "cell_type": "code",
   "execution_count": 29,
   "id": "c11af6ae",
   "metadata": {},
   "outputs": [],
   "source": [
    "convert = [list(students.keys()),\n",
    "           list(students.values()),\n",
    "           list(students.items())]"
   ]
  },
  {
   "cell_type": "code",
   "execution_count": 30,
   "id": "74067470",
   "metadata": {},
   "outputs": [
    {
     "data": {
      "text/plain": [
       "list"
      ]
     },
     "execution_count": 30,
     "metadata": {},
     "output_type": "execute_result"
    }
   ],
   "source": [
    "type(convert)"
   ]
  },
  {
   "cell_type": "code",
   "execution_count": 31,
   "id": "8ed0c99c",
   "metadata": {},
   "outputs": [
    {
     "ename": "AttributeError",
     "evalue": "'list' object has no attribute 'skills'",
     "output_type": "error",
     "traceback": [
      "\u001b[31m---------------------------------------------------------------------------\u001b[39m",
      "\u001b[31mAttributeError\u001b[39m                            Traceback (most recent call last)",
      "\u001b[36mCell\u001b[39m\u001b[36m \u001b[39m\u001b[32mIn[31]\u001b[39m\u001b[32m, line 1\u001b[39m\n\u001b[32m----> \u001b[39m\u001b[32m1\u001b[39m \u001b[43mconvert\u001b[49m\u001b[43m.\u001b[49m\u001b[43mskills\u001b[49m()\n",
      "\u001b[31mAttributeError\u001b[39m: 'list' object has no attribute 'skills'"
     ]
    }
   ],
   "source": [
    "convert.skills()"
   ]
  },
  {
   "cell_type": "code",
   "execution_count": 35,
   "id": "297ec6c5",
   "metadata": {},
   "outputs": [
    {
     "data": {
      "text/plain": [
       "list"
      ]
     },
     "execution_count": 35,
     "metadata": {},
     "output_type": "execute_result"
    }
   ],
   "source": [
    "skill = students[\"skills\"]\n",
    "type(skill)\n"
   ]
  },
  {
   "cell_type": "code",
   "execution_count": 38,
   "id": "43c6012f",
   "metadata": {},
   "outputs": [],
   "source": [
    "students[\"skills\"].append(\"HTML, CSS, SQL, React,   Node.js\")"
   ]
  },
  {
   "cell_type": "code",
   "execution_count": 43,
   "id": "a1760273",
   "metadata": {},
   "outputs": [
    {
     "name": "stdout",
     "output_type": "stream",
     "text": [
      "['Python', 'Java', 'C++', 'JavaScript', 'Ruby', 'HTML, CSS, SQL, React,   Node.js']\n"
     ]
    }
   ],
   "source": [
    "print(students[\"skills\"])"
   ]
  },
  {
   "cell_type": "code",
   "execution_count": 44,
   "id": "c0a4d70e",
   "metadata": {},
   "outputs": [
    {
     "name": "stdout",
     "output_type": "stream",
     "text": [
      "['first_name', 'last_name', 'age', 'gender', 'marital_status', 'skills', 'country', 'city', 'address']\n",
      "[['John', 'Jane', 'Jim', 'Jill', 'Jack'], ['Doe', 'Smith', 'Brown', 'Johnson', 'Davis'], [20, 22, 19, 21, 23], ['M', 'F', 'M', 'F', 'M'], ['Single', 'Married', 'Single', 'Married', 'Single'], ['Python', 'Java', 'C++', 'JavaScript', 'Ruby', 'HTML, CSS, SQL, React,   Node.js'], ['USA', 'Canada', 'UK', 'Australia', 'Germany'], ['New York', 'Toronto', 'London', 'Sydney', 'Berlin'], ['123 Main St', '456 Maple Ave', '789 Oak St', '101 Pine Rd', '202 Birch Ln']]\n",
      "[('first_name', ['John', 'Jane', 'Jim', 'Jill', 'Jack']), ('last_name', ['Doe', 'Smith', 'Brown', 'Johnson', 'Davis']), ('age', [20, 22, 19, 21, 23]), ('gender', ['M', 'F', 'M', 'F', 'M']), ('marital_status', ['Single', 'Married', 'Single', 'Married', 'Single']), ('skills', ['Python', 'Java', 'C++', 'JavaScript', 'Ruby', 'HTML, CSS, SQL, React,   Node.js']), ('country', ['USA', 'Canada', 'UK', 'Australia', 'Germany']), ('city', ['New York', 'Toronto', 'London', 'Sydney', 'Berlin']), ('address', ['123 Main St', '456 Maple Ave', '789 Oak St', '101 Pine Rd', '202 Birch Ln'])]\n"
     ]
    }
   ],
   "source": [
    "# Get the dictionary keys as a list\n",
    "keys = list(students.keys())\n",
    "print(keys)\n",
    "# Get the dictionary values as a list\n",
    "values = list(students.values())\n",
    "print(values)\n",
    "\n",
    "# Get the dictionary items as a list\n",
    "items = list(students.items())\n",
    "print(items)"
   ]
  },
  {
   "cell_type": "code",
   "execution_count": 45,
   "id": "35e0ab30",
   "metadata": {},
   "outputs": [],
   "source": [
    "del students[\"address\"]"
   ]
  },
  {
   "cell_type": "code",
   "execution_count": 46,
   "id": "e94d52e9",
   "metadata": {},
   "outputs": [],
   "source": [
    "del convert"
   ]
  },
  {
   "cell_type": "code",
   "execution_count": null,
   "id": "215841a5",
   "metadata": {},
   "outputs": [],
   "source": []
  },
  {
   "cell_type": "markdown",
   "id": "7be6eca4",
   "metadata": {},
   "source": [
    "### Lecture Exericse    "
   ]
  },
  {
   "cell_type": "code",
   "execution_count": 47,
   "id": "ef519042",
   "metadata": {},
   "outputs": [
    {
     "name": "stdout",
     "output_type": "stream",
     "text": [
      "{1: 1, 2: 2, 3: 'Fizz', 4: 4, 5: 'Buzz', 6: 'Fizz', 7: 7, 8: 8, 9: 'Fizz', 10: 'Buzz', 11: 11, 12: 'Fizz', 13: 13, 14: 14, 15: 'Fizz', 16: 16, 17: 17, 18: 'Fizz', 19: 19, 20: 'Buzz', 21: 'Fizz', 22: 22, 23: 23, 24: 'Fizz', 25: 'Buzz', 26: 26, 27: 'Fizz', 28: 28, 29: 29, 30: 'Fizz', 31: 31, 32: 32, 33: 'Fizz', 34: 34, 35: 'Buzz', 36: 'Fizz', 37: 37, 38: 38, 39: 'Fizz', 40: 'Buzz', 41: 41, 42: 'Fizz', 43: 43, 44: 44, 45: 'Fizz', 46: 46, 47: 47, 48: 'Fizz', 49: 49, 50: 'Buzz', 51: 'Fizz', 52: 52, 53: 53, 54: 'Fizz', 55: 'Buzz', 56: 56, 57: 'Fizz', 58: 58, 59: 59, 60: 'Fizz', 61: 61, 62: 62, 63: 'Fizz', 64: 64, 65: 'Buzz', 66: 'Fizz', 67: 67, 68: 68, 69: 'Fizz', 70: 'Buzz', 71: 71, 72: 'Fizz', 73: 73, 74: 74, 75: 'Fizz', 76: 76, 77: 77, 78: 'Fizz', 79: 79, 80: 'Buzz', 81: 'Fizz', 82: 82, 83: 83, 84: 'Fizz', 85: 'Buzz', 86: 86, 87: 'Fizz', 88: 88, 89: 89, 90: 'Fizz', 91: 91, 92: 92, 93: 'Fizz', 94: 94, 95: 'Buzz', 96: 'Fizz', 97: 97, 98: 98, 99: 'Fizz', 100: 'Buzz'}\n"
     ]
    }
   ],
   "source": [
    "fizzbuzz_dict = {}\n",
    "\n",
    "for i in range(1,101):\n",
    "    if i  % 3 == 0:\n",
    "        fizzbuzz_dict[i] = \"Fizz\"\n",
    "    elif i % 5 == 0:\n",
    "        fizzbuzz_dict[i] = \"Buzz\"\n",
    "    elif i % 15 == 0:\n",
    "        fizzbuzz_dict[i] = \"FizzBuzz\"  \n",
    "    else:\n",
    "        fizzbuzz_dict[i] = i       \n",
    "print(fizzbuzz_dict) "
   ]
  },
  {
   "cell_type": "code",
   "execution_count": 48,
   "id": "2ef59b52",
   "metadata": {},
   "outputs": [
    {
     "name": "stdout",
     "output_type": "stream",
     "text": [
      "{1: 1, 2: 4, 3: 9, 4: 16, 5: 25, 6: 36, 7: 49, 8: 64, 9: 81, 10: 100, 11: 121, 12: 144, 13: 169, 14: 196, 15: 225, 16: 256, 17: 289, 18: 324, 19: 361, 20: 400, 21: 441, 22: 484, 23: 529, 24: 576, 25: 625, 26: 676, 27: 729, 28: 784, 29: 841, 30: 900, 31: 961, 32: 1024, 33: 1089, 34: 1156, 35: 1225, 36: 1296, 37: 1369, 38: 1444, 39: 1521, 40: 1600, 41: 1681, 42: 1764, 43: 1849, 44: 1936, 45: 2025, 46: 2116, 47: 2209, 48: 2304, 49: 2401, 50: 2500, 51: 2601, 52: 2704, 53: 2809, 54: 2916, 55: 3025, 56: 3136, 57: 3249, 58: 3364, 59: 3481, 60: 3600, 61: 3721, 62: 3844, 63: 3969, 64: 4096, 65: 4225, 66: 4356, 67: 4489, 68: 4624, 69: 4761, 70: 4900, 71: 5041, 72: 5184, 73: 5329, 74: 5476, 75: 5625, 76: 5776, 77: 5929, 78: 6084, 79: 6241, 80: 6400, 81: 6561, 82: 6724, 83: 6889, 84: 7056, 85: 7225, 86: 7396, 87: 7569, 88: 7744, 89: 7921, 90: 8100, 91: 8281, 92: 8464, 93: 8649, 94: 8836, 95: 9025, 96: 9216, 97: 9409, 98: 9604, 99: 9801, 100: 10000}\n"
     ]
    }
   ],
   "source": [
    "#### 2) Create a dictionary (`squares`) in which the keys are the numbers between 1 and 100 and the values are the square of the keys.\n",
    "squares = {i: i**2 for i in range(1, 101)}\n",
    "print(squares)\n"
   ]
  },
  {
   "cell_type": "code",
   "execution_count": 49,
   "id": "55e71043",
   "metadata": {},
   "outputs": [
    {
     "name": "stdout",
     "output_type": "stream",
     "text": [
      "(3, 9)\n",
      "(5, 25)\n",
      "(6, 36)\n",
      "(9, 81)\n",
      "(10, 100)\n",
      "(12, 144)\n",
      "(15, 225)\n",
      "(18, 324)\n",
      "(20, 400)\n",
      "(21, 441)\n",
      "(24, 576)\n",
      "(25, 625)\n",
      "(27, 729)\n",
      "(30, 900)\n",
      "(33, 1089)\n",
      "(35, 1225)\n",
      "(36, 1296)\n",
      "(39, 1521)\n",
      "(40, 1600)\n",
      "(42, 1764)\n",
      "(45, 2025)\n",
      "(48, 2304)\n",
      "(50, 2500)\n",
      "(51, 2601)\n",
      "(54, 2916)\n",
      "(55, 3025)\n",
      "(57, 3249)\n",
      "(60, 3600)\n",
      "(63, 3969)\n",
      "(65, 4225)\n",
      "(66, 4356)\n",
      "(69, 4761)\n",
      "(70, 4900)\n",
      "(72, 5184)\n",
      "(75, 5625)\n",
      "(78, 6084)\n",
      "(80, 6400)\n",
      "(81, 6561)\n",
      "(84, 7056)\n",
      "(85, 7225)\n",
      "(87, 7569)\n",
      "(90, 8100)\n",
      "(93, 8649)\n",
      "(95, 9025)\n",
      "(96, 9216)\n",
      "(99, 9801)\n",
      "(100, 10000)\n"
     ]
    }
   ],
   "source": [
    "#### 3) Iterate over `squares` and print the `(key, value)` pair if and only if `key` is either a multiple of 3 or 5.\n",
    "for key, value in squares.items():\n",
    "    if key % 3 == 0 or key % 5 == 0:\n",
    "        print((key, value))"
   ]
  },
  {
   "cell_type": "code",
   "execution_count": 50,
   "id": "eeedc3d5",
   "metadata": {},
   "outputs": [
    {
     "name": "stdout",
     "output_type": "stream",
     "text": [
      "{1: 1.0, 2: 1.4142135623730951, 3: 1.7320508075688772, 4: 2.0, 5: 2.23606797749979, 6: 2.449489742783178, 7: 2.6457513110645907, 8: 2.8284271247461903, 9: 3.0, 10: 3.1622776601683795, 11: 3.3166247903554, 12: 3.4641016151377544, 13: 3.605551275463989, 14: 3.7416573867739413, 15: 3.872983346207417, 16: 4.0, 17: 4.123105625617661, 18: 4.242640687119285, 19: 4.358898943540674, 20: 4.47213595499958, 21: 4.58257569495584, 22: 4.69041575982343, 23: 4.795831523312719, 24: 4.898979485566356, 25: 5.0, 26: 5.0990195135927845, 27: 5.196152422706632, 28: 5.291502622129181, 29: 5.385164807134504, 30: 5.477225575051661, 31: 5.5677643628300215, 32: 5.656854249492381, 33: 5.744562646538029, 34: 5.830951894845301, 35: 5.916079783099616, 36: 6.0, 37: 6.082762530298219, 38: 6.164414002968976, 39: 6.244997998398398, 40: 6.324555320336759, 41: 6.4031242374328485, 42: 6.48074069840786, 43: 6.557438524302, 44: 6.6332495807108, 45: 6.708203932499369, 46: 6.782329983125268, 47: 6.855654600401044, 48: 6.928203230275509, 49: 7.0, 50: 7.0710678118654755, 51: 7.14142842854285, 52: 7.211102550927978, 53: 7.280109889280518, 54: 7.3484692283495345, 55: 7.416198487095663, 56: 7.483314773547883, 57: 7.54983443527075, 58: 7.615773105863909, 59: 7.681145747868608, 60: 7.745966692414834, 61: 7.810249675906654, 62: 7.874007874011811, 63: 7.937253933193772, 64: 8.0, 65: 8.06225774829855, 66: 8.12403840463596, 67: 8.18535277187245, 68: 8.246211251235321, 69: 8.306623862918075, 70: 8.366600265340756, 71: 8.426149773176359, 72: 8.48528137423857, 73: 8.54400374531753, 74: 8.602325267042627, 75: 8.660254037844387, 76: 8.717797887081348, 77: 8.774964387392123, 78: 8.831760866327848, 79: 8.888194417315589, 80: 8.94427190999916, 81: 9.0, 82: 9.055385138137417, 83: 9.1104335791443, 84: 9.16515138991168, 85: 9.219544457292887, 86: 9.273618495495704, 87: 9.327379053088816, 88: 9.38083151964686, 89: 9.433981132056603, 90: 9.486832980505138, 91: 9.539392014169456, 92: 9.591663046625438, 93: 9.643650760992955, 94: 9.695359714832659, 95: 9.746794344808963, 96: 9.797958971132712, 97: 9.848857801796104, 98: 9.899494936611665, 99: 9.9498743710662, 100: 10.0}\n"
     ]
    }
   ],
   "source": [
    "#### 4) Create a dictionary (`roots`) in which the keys are the numbers between 1 and 100 and the values are the square roots of the keys. Remember that computing the square root is equal to elevate to the $1/2$ power.\n",
    "roots = {i: i**0.5 for i in range(1, 101)}\n",
    "print(roots)\n"
   ]
  },
  {
   "cell_type": "code",
   "execution_count": 52,
   "id": "06d378f8",
   "metadata": {},
   "outputs": [
    {
     "name": "stdout",
     "output_type": "stream",
     "text": [
      "{1: {'square': 1, 'root': 1.0}, 2: {'square': 4, 'root': 1.4142135623730951}, 3: {'square': 9, 'root': 1.7320508075688772}, 4: {'square': 16, 'root': 2.0}, 5: {'square': 25, 'root': 2.23606797749979}, 6: {'square': 36, 'root': 2.449489742783178}, 7: {'square': 49, 'root': 2.6457513110645907}, 8: {'square': 64, 'root': 2.8284271247461903}, 9: {'square': 81, 'root': 3.0}, 10: {'square': 100, 'root': 3.1622776601683795}, 11: {'square': 121, 'root': 3.3166247903554}, 12: {'square': 144, 'root': 3.4641016151377544}, 13: {'square': 169, 'root': 3.605551275463989}, 14: {'square': 196, 'root': 3.7416573867739413}, 15: {'square': 225, 'root': 3.872983346207417}, 16: {'square': 256, 'root': 4.0}, 17: {'square': 289, 'root': 4.123105625617661}, 18: {'square': 324, 'root': 4.242640687119285}, 19: {'square': 361, 'root': 4.358898943540674}, 20: {'square': 400, 'root': 4.47213595499958}, 21: {'square': 441, 'root': 4.58257569495584}, 22: {'square': 484, 'root': 4.69041575982343}, 23: {'square': 529, 'root': 4.795831523312719}, 24: {'square': 576, 'root': 4.898979485566356}, 25: {'square': 625, 'root': 5.0}, 26: {'square': 676, 'root': 5.0990195135927845}, 27: {'square': 729, 'root': 5.196152422706632}, 28: {'square': 784, 'root': 5.291502622129181}, 29: {'square': 841, 'root': 5.385164807134504}, 30: {'square': 900, 'root': 5.477225575051661}, 31: {'square': 961, 'root': 5.5677643628300215}, 32: {'square': 1024, 'root': 5.656854249492381}, 33: {'square': 1089, 'root': 5.744562646538029}, 34: {'square': 1156, 'root': 5.830951894845301}, 35: {'square': 1225, 'root': 5.916079783099616}, 36: {'square': 1296, 'root': 6.0}, 37: {'square': 1369, 'root': 6.082762530298219}, 38: {'square': 1444, 'root': 6.164414002968976}, 39: {'square': 1521, 'root': 6.244997998398398}, 40: {'square': 1600, 'root': 6.324555320336759}, 41: {'square': 1681, 'root': 6.4031242374328485}, 42: {'square': 1764, 'root': 6.48074069840786}, 43: {'square': 1849, 'root': 6.557438524302}, 44: {'square': 1936, 'root': 6.6332495807108}, 45: {'square': 2025, 'root': 6.708203932499369}, 46: {'square': 2116, 'root': 6.782329983125268}, 47: {'square': 2209, 'root': 6.855654600401044}, 48: {'square': 2304, 'root': 6.928203230275509}, 49: {'square': 2401, 'root': 7.0}, 50: {'square': 2500, 'root': 7.0710678118654755}, 51: {'square': 2601, 'root': 7.14142842854285}, 52: {'square': 2704, 'root': 7.211102550927978}, 53: {'square': 2809, 'root': 7.280109889280518}, 54: {'square': 2916, 'root': 7.3484692283495345}, 55: {'square': 3025, 'root': 7.416198487095663}, 56: {'square': 3136, 'root': 7.483314773547883}, 57: {'square': 3249, 'root': 7.54983443527075}, 58: {'square': 3364, 'root': 7.615773105863909}, 59: {'square': 3481, 'root': 7.681145747868608}, 60: {'square': 3600, 'root': 7.745966692414834}, 61: {'square': 3721, 'root': 7.810249675906654}, 62: {'square': 3844, 'root': 7.874007874011811}, 63: {'square': 3969, 'root': 7.937253933193772}, 64: {'square': 4096, 'root': 8.0}, 65: {'square': 4225, 'root': 8.06225774829855}, 66: {'square': 4356, 'root': 8.12403840463596}, 67: {'square': 4489, 'root': 8.18535277187245}, 68: {'square': 4624, 'root': 8.246211251235321}, 69: {'square': 4761, 'root': 8.306623862918075}, 70: {'square': 4900, 'root': 8.366600265340756}, 71: {'square': 5041, 'root': 8.426149773176359}, 72: {'square': 5184, 'root': 8.48528137423857}, 73: {'square': 5329, 'root': 8.54400374531753}, 74: {'square': 5476, 'root': 8.602325267042627}, 75: {'square': 5625, 'root': 8.660254037844387}, 76: {'square': 5776, 'root': 8.717797887081348}, 77: {'square': 5929, 'root': 8.774964387392123}, 78: {'square': 6084, 'root': 8.831760866327848}, 79: {'square': 6241, 'root': 8.888194417315589}, 80: {'square': 6400, 'root': 8.94427190999916}, 81: {'square': 6561, 'root': 9.0}, 82: {'square': 6724, 'root': 9.055385138137417}, 83: {'square': 6889, 'root': 9.1104335791443}, 84: {'square': 7056, 'root': 9.16515138991168}, 85: {'square': 7225, 'root': 9.219544457292887}, 86: {'square': 7396, 'root': 9.273618495495704}, 87: {'square': 7569, 'root': 9.327379053088816}, 88: {'square': 7744, 'root': 9.38083151964686}, 89: {'square': 7921, 'root': 9.433981132056603}, 90: {'square': 8100, 'root': 9.486832980505138}, 91: {'square': 8281, 'root': 9.539392014169456}, 92: {'square': 8464, 'root': 9.591663046625438}, 93: {'square': 8649, 'root': 9.643650760992955}, 94: {'square': 8836, 'root': 9.695359714832659}, 95: {'square': 9025, 'root': 9.746794344808963}, 96: {'square': 9216, 'root': 9.797958971132712}, 97: {'square': 9409, 'root': 9.848857801796104}, 98: {'square': 9604, 'root': 9.899494936611665}, 99: {'square': 9801, 'root': 9.9498743710662}, 100: {'square': 10000, 'root': 10.0}}\n"
     ]
    }
   ],
   "source": [
    "#### 5) Merge `squares` and `roots` and create a new dictionary (`squares_and_roots`) that maps each key to another dictionary with `'square'` and `'root'` as keys (`squares_and_roots[n]['square']` contains the square of `n` and `square_and_roots[n]['root']` contains the root of `n`).\n",
    "squares_and_roots = {i: {'square': squares[i], 'root': roots[i]} for i in range(1, 101)}\n",
    "print(squares_and_roots)\n"
   ]
  },
  {
   "cell_type": "code",
   "execution_count": 53,
   "id": "7f1b0cf2",
   "metadata": {},
   "outputs": [
    {
     "name": "stdout",
     "output_type": "stream",
     "text": [
      "1 1 1.0\n",
      "2 4 1.4142135623730951\n",
      "3 9 1.7320508075688772\n",
      "4 16 2.0\n",
      "5 25 2.23606797749979\n",
      "6 36 2.449489742783178\n",
      "7 49 2.6457513110645907\n",
      "8 64 2.8284271247461903\n",
      "9 81 3.0\n",
      "10 100 3.1622776601683795\n",
      "11 121 3.3166247903554\n",
      "12 144 3.4641016151377544\n",
      "13 169 3.605551275463989\n",
      "14 196 3.7416573867739413\n",
      "15 225 3.872983346207417\n",
      "16 256 4.0\n",
      "17 289 4.123105625617661\n",
      "18 324 4.242640687119285\n",
      "19 361 4.358898943540674\n",
      "20 400 4.47213595499958\n",
      "21 441 4.58257569495584\n",
      "22 484 4.69041575982343\n",
      "23 529 4.795831523312719\n",
      "24 576 4.898979485566356\n",
      "25 625 5.0\n",
      "26 676 5.0990195135927845\n",
      "27 729 5.196152422706632\n",
      "28 784 5.291502622129181\n",
      "29 841 5.385164807134504\n",
      "30 900 5.477225575051661\n",
      "31 961 5.5677643628300215\n",
      "32 1024 5.656854249492381\n",
      "33 1089 5.744562646538029\n",
      "34 1156 5.830951894845301\n",
      "35 1225 5.916079783099616\n",
      "36 1296 6.0\n",
      "37 1369 6.082762530298219\n",
      "38 1444 6.164414002968976\n",
      "39 1521 6.244997998398398\n",
      "40 1600 6.324555320336759\n",
      "41 1681 6.4031242374328485\n",
      "42 1764 6.48074069840786\n",
      "43 1849 6.557438524302\n",
      "44 1936 6.6332495807108\n",
      "45 2025 6.708203932499369\n",
      "46 2116 6.782329983125268\n",
      "47 2209 6.855654600401044\n",
      "48 2304 6.928203230275509\n",
      "49 2401 7.0\n",
      "50 2500 7.0710678118654755\n",
      "51 2601 7.14142842854285\n",
      "52 2704 7.211102550927978\n",
      "53 2809 7.280109889280518\n",
      "54 2916 7.3484692283495345\n",
      "55 3025 7.416198487095663\n",
      "56 3136 7.483314773547883\n",
      "57 3249 7.54983443527075\n",
      "58 3364 7.615773105863909\n",
      "59 3481 7.681145747868608\n",
      "60 3600 7.745966692414834\n",
      "61 3721 7.810249675906654\n",
      "62 3844 7.874007874011811\n",
      "63 3969 7.937253933193772\n",
      "64 4096 8.0\n",
      "65 4225 8.06225774829855\n",
      "66 4356 8.12403840463596\n",
      "67 4489 8.18535277187245\n",
      "68 4624 8.246211251235321\n",
      "69 4761 8.306623862918075\n",
      "70 4900 8.366600265340756\n",
      "71 5041 8.426149773176359\n",
      "72 5184 8.48528137423857\n",
      "73 5329 8.54400374531753\n",
      "74 5476 8.602325267042627\n",
      "75 5625 8.660254037844387\n",
      "76 5776 8.717797887081348\n",
      "77 5929 8.774964387392123\n",
      "78 6084 8.831760866327848\n",
      "79 6241 8.888194417315589\n",
      "80 6400 8.94427190999916\n",
      "81 6561 9.0\n",
      "82 6724 9.055385138137417\n",
      "83 6889 9.1104335791443\n",
      "84 7056 9.16515138991168\n",
      "85 7225 9.219544457292887\n",
      "86 7396 9.273618495495704\n",
      "87 7569 9.327379053088816\n",
      "88 7744 9.38083151964686\n",
      "89 7921 9.433981132056603\n",
      "90 8100 9.486832980505138\n",
      "91 8281 9.539392014169456\n",
      "92 8464 9.591663046625438\n",
      "93 8649 9.643650760992955\n",
      "94 8836 9.695359714832659\n",
      "95 9025 9.746794344808963\n",
      "96 9216 9.797958971132712\n",
      "97 9409 9.848857801796104\n",
      "98 9604 9.899494936611665\n",
      "99 9801 9.9498743710662\n",
      "100 10000 10.0\n"
     ]
    }
   ],
   "source": [
    "#### 6) For each key in `squares_and_roots` print the key, the square, and the root on a single line.           \n",
    "for key, value in squares_and_roots.items():\n",
    "    print(key, value['square'], value['root'])"
   ]
  },
  {
   "cell_type": "code",
   "execution_count": null,
   "id": "4b3e63e7",
   "metadata": {},
   "outputs": [],
   "source": []
  }
 ],
 "metadata": {
  "kernelspec": {
   "display_name": "ds_env",
   "language": "python",
   "name": "python3"
  },
  "language_info": {
   "codemirror_mode": {
    "name": "ipython",
    "version": 3
   },
   "file_extension": ".py",
   "mimetype": "text/x-python",
   "name": "python",
   "nbconvert_exporter": "python",
   "pygments_lexer": "ipython3",
   "version": "3.11.13"
  }
 },
 "nbformat": 4,
 "nbformat_minor": 5
}
